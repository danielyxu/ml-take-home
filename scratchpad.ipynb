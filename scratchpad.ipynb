{
 "cells": [
  {
   "cell_type": "code",
   "execution_count": 1,
   "metadata": {},
   "outputs": [],
   "source": [
    "import transformers as tr\n",
    "from tqdm import tqdm\n",
    "import multiprocessing as mp\n",
    "mp.set_start_method('fork')\n",
    "import torch\n",
    "import torch.nn.functional as F\n",
    "device = torch.device(\"mps\")"
   ]
  },
  {
   "cell_type": "code",
   "execution_count": 23,
   "metadata": {},
   "outputs": [],
   "source": [
    "from main import amateur_path, expert_path, tokenizer, user_message, prompt #, contrastive_generation"
   ]
  },
  {
   "cell_type": "code",
   "execution_count": 24,
   "metadata": {},
   "outputs": [
    {
     "name": "stderr",
     "output_type": "stream",
     "text": [
      "Device set to use mps:0\n",
      "Device set to use mps:0\n"
     ]
    }
   ],
   "source": [
    "amateur = tr.pipeline(\"text-generation\", model=amateur_path, tokenizer=tokenizer)\n",
    "expert = tr.pipeline(\"text-generation\", model=expert_path, tokenizer=tokenizer)"
   ]
  },
  {
   "cell_type": "code",
   "execution_count": 29,
   "metadata": {},
   "outputs": [],
   "source": [
    "def contrastive_generation(amateur: tr.pipeline, \n",
    "                           expert: tr.pipeline,\n",
    "                           prompt: str,\n",
    "                           max_tokens: int,\n",
    "                           adaptive_plausibility: float = .1) -> str:\n",
    "    def get_probs(model, generated, past):\n",
    "        with torch.inference_mode():\n",
    "            if past is None:\n",
    "                outputs = model.model(generated, use_cache=True)\n",
    "            else:\n",
    "                last_token = generated[:, -1].unsqueeze(-1)\n",
    "                outputs = model.model(last_token, past_key_values=past, use_cache=True)\n",
    "            past = outputs.past_key_values\n",
    "            logits = outputs.logits[:, -1, :]\n",
    "            probs = F.log_softmax(logits, dim=-1)\n",
    "            return probs\n",
    "\n",
    "    expert.model.eval()\n",
    "    amateur.model.eval()\n",
    "    with torch.inference_mode():\n",
    "        device = next(amateur.model.parameters()).device\n",
    "        generated = tokenizer(prompt, return_tensors=\"pt\").input_ids.to(device)\n",
    "\n",
    "        expert_past = None\n",
    "        amateur_past = None\n",
    "        for _ in tqdm(range(max_tokens)):\n",
    "            expert_probs = get_probs(expert, generated, expert_past)\n",
    "            amateur_probs = get_probs(amateur, generated, amateur_past)\n",
    "        \n",
    "            max_prob = expert_probs.max().item()\n",
    "            threshold = adaptive_plausibility * torch.exp(torch.tensor(max_prob))\n",
    "\n",
    "            # create a mask for tokens above the plausibility threshold.\n",
    "            candidate_mask = torch.exp(expert_probs) >= threshold\n",
    "\n",
    "            # compute contrastive scores\n",
    "            contrastive_scores = torch.where(\n",
    "                candidate_mask,\n",
    "                expert_probs - amateur_probs,\n",
    "                torch.tensor(float('-inf')).to(expert_probs.device)\n",
    "            )\n",
    "\n",
    "            next_token = contrastive_scores.argmax(dim=-1).unsqueeze(0)\n",
    "\n",
    "            generated = torch.cat([generated, next_token], dim=-1)\n",
    "\n",
    "            if next_token.item() == tokenizer.eos_token_id:\n",
    "                break\n",
    "\n",
    "    return generated"
   ]
  },
  {
   "cell_type": "code",
   "execution_count": 30,
   "metadata": {},
   "outputs": [
    {
     "name": "stderr",
     "output_type": "stream",
     "text": [
      "100%|██████████| 2/2 [00:29<00:00, 14.59s/it]\n"
     ]
    }
   ],
   "source": [
    "cg_output = contrastive_generation(amateur, expert, prompt, 2)"
   ]
  },
  {
   "cell_type": "code",
   "execution_count": 31,
   "metadata": {},
   "outputs": [],
   "source": [
    "input_ids = tokenizer(prompt, return_tensors=\"pt\").input_ids"
   ]
  },
  {
   "cell_type": "code",
   "execution_count": 32,
   "metadata": {},
   "outputs": [
    {
     "data": {
      "text/plain": [
       "'This function'"
      ]
     },
     "execution_count": 32,
     "metadata": {},
     "output_type": "execute_result"
    }
   ],
   "source": [
    "tokenizer.decode(cg_output[0][len(input_ids[0]):], skip_special_tokens=True)"
   ]
  },
  {
   "cell_type": "code",
   "execution_count": null,
   "metadata": {},
   "outputs": [],
   "source": []
  }
 ],
 "metadata": {
  "kernelspec": {
   "display_name": "Python 3",
   "language": "python",
   "name": "python3"
  },
  "language_info": {
   "codemirror_mode": {
    "name": "ipython",
    "version": 3
   },
   "file_extension": ".py",
   "mimetype": "text/x-python",
   "name": "python",
   "nbconvert_exporter": "python",
   "pygments_lexer": "ipython3",
   "version": "3.11.9"
  }
 },
 "nbformat": 4,
 "nbformat_minor": 2
}
