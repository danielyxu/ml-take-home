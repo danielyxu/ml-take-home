{
 "cells": [
  {
   "cell_type": "code",
   "execution_count": 1,
   "metadata": {},
   "outputs": [],
   "source": [
    "import transformers as tr\n",
    "from tqdm import tqdm\n",
    "import multiprocessing as mp\n",
    "mp.set_start_method('fork')\n",
    "import torch\n",
    "import torch.nn.functional as F\n",
    "device = torch.device(\"mps\")"
   ]
  },
  {
   "cell_type": "code",
   "execution_count": 2,
   "metadata": {},
   "outputs": [],
   "source": [
    "from main import amateur_path, expert_path, tokenizer, user_message, prompt #, contrastive_generation"
   ]
  },
  {
   "cell_type": "code",
   "execution_count": 3,
   "metadata": {},
   "outputs": [
    {
     "name": "stderr",
     "output_type": "stream",
     "text": [
      "Sliding Window Attention is enabled but not implemented for `sdpa`; unexpected results may be encountered.\n",
      "Device set to use mps:0\n",
      "Device set to use mps:0\n"
     ]
    }
   ],
   "source": [
    "amateur = tr.pipeline(\"text-generation\", model=amateur_path, tokenizer=tokenizer)\n",
    "expert = tr.pipeline(\"text-generation\", model=expert_path, tokenizer=tokenizer)"
   ]
  },
  {
   "cell_type": "code",
   "execution_count": 4,
   "metadata": {},
   "outputs": [],
   "source": [
    "def contrastive_generation(amateur: tr.pipeline, \n",
    "                           expert: tr.pipeline,\n",
    "                           prompt: str,\n",
    "                           max_tokens: int,\n",
    "                           adaptive_plausibility: float = .1) -> str:\n",
    "\n",
    "    device = next(amateur.model.parameters()).device\n",
    "\n",
    "    generated = tokenizer(prompt, return_tensors=\"pt\").input_ids.to(device)\n",
    "\n",
    "    for _ in tqdm(range(max_tokens)):\n",
    "        expert_outputs = expert.model(generated)\n",
    "        expert_logits = expert_outputs.logits[:, -1, :]\n",
    "        expert_probs = F.softmax(expert_logits, dim=-1)\n",
    "        max_prob = expert_probs.max().item()\n",
    "        threshold = adaptive_plausibility * max_prob\n",
    "\n",
    "        # create a mask for tokens above the plausibility threshold.\n",
    "        candidate_mask = expert_probs >= threshold\n",
    "\n",
    "        amateur_outputs = amateur.model(generated.to(next(amateur.model.parameters()).device))\n",
    "        amateur_logits = amateur_outputs.logits[:, -1, :]\n",
    "        amateur_probs = F.softmax(amateur_logits, dim=-1)\n",
    "\n",
    "        # compute contrastive scores\n",
    "        contrastive_scores = torch.where(\n",
    "            candidate_mask,\n",
    "            torch.log(expert_probs) - torch.log(amateur_probs),\n",
    "            torch.tensor(float('-inf')).to(expert_probs.device)\n",
    "        )\n",
    "\n",
    "        next_token = contrastive_scores.argmax(dim=-1).unsqueeze(0)\n",
    "\n",
    "        generated = torch.cat([generated, next_token], dim=-1)\n",
    "\n",
    "        if next_token.item() == tokenizer.eos_token_id:\n",
    "            break\n",
    "\n",
    "    return generated"
   ]
  },
  {
   "cell_type": "code",
   "execution_count": 5,
   "metadata": {},
   "outputs": [
    {
     "name": "stderr",
     "output_type": "stream",
     "text": [
      "100%|██████████| 10/10 [02:22<00:00, 14.29s/it]\n"
     ]
    }
   ],
   "source": [
    "cg_output = contrastive_generation(amateur, expert, prompt, 2)"
   ]
  },
  {
   "cell_type": "code",
   "execution_count": 7,
   "metadata": {},
   "outputs": [],
   "source": [
    "input_ids = tokenizer(prompt, return_tensors=\"pt\").input_ids"
   ]
  },
  {
   "cell_type": "code",
   "execution_count": 8,
   "metadata": {},
   "outputs": [
    {
     "data": {
      "text/plain": [
       "'This function `updateEloScores` takes three'"
      ]
     },
     "execution_count": 8,
     "metadata": {},
     "output_type": "execute_result"
    }
   ],
   "source": [
    "tokenizer.decode(cg_output[0][len(input_ids[0]):], skip_special_tokens=True)"
   ]
  },
  {
   "cell_type": "code",
   "execution_count": null,
   "metadata": {},
   "outputs": [],
   "source": []
  }
 ],
 "metadata": {
  "kernelspec": {
   "display_name": "Python 3",
   "language": "python",
   "name": "python3"
  },
  "language_info": {
   "codemirror_mode": {
    "name": "ipython",
    "version": 3
   },
   "file_extension": ".py",
   "mimetype": "text/x-python",
   "name": "python",
   "nbconvert_exporter": "python",
   "pygments_lexer": "ipython3",
   "version": "3.11.9"
  }
 },
 "nbformat": 4,
 "nbformat_minor": 2
}
