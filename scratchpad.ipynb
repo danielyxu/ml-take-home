{
 "cells": [
  {
   "cell_type": "code",
   "execution_count": 3,
   "metadata": {},
   "outputs": [],
   "source": [
    "import transformers as tr\n",
    "from tqdm import tqdm\n",
    "import multiprocessing as mp\n",
    "# mp.set_start_method('fork')\n",
    "import torch\n",
    "import torch.nn.functional as F\n",
    "# device = torch.device(\"mps\")"
   ]
  },
  {
   "cell_type": "code",
   "execution_count": 9,
   "metadata": {},
   "outputs": [],
   "source": [
    "from main import amateur_path, expert_path, tokenizer, user_message, prompt, contrastive_generation"
   ]
  },
  {
   "cell_type": "code",
   "execution_count": 10,
   "metadata": {},
   "outputs": [
    {
     "name": "stderr",
     "output_type": "stream",
     "text": [
      "Device set to use mps:0\n",
      "Device set to use mps:0\n"
     ]
    }
   ],
   "source": [
    "amateur = tr.pipeline(\"text-generation\", model=amateur_path, tokenizer=tokenizer)\n",
    "expert = tr.pipeline(\"text-generation\", model=expert_path, tokenizer=tokenizer)"
   ]
  },
  {
   "cell_type": "code",
   "execution_count": 11,
   "metadata": {},
   "outputs": [
    {
     "data": {
      "text/plain": [
       "([{'generated_text': '<|im_start|>system\\nYou are a helpful assistant<|im_end|>\\n<|im_start|>user\\nGive a very very brief docstring for the following function:\\n```\\nfunction updateEloScores(\\n\\tscores,\\n\\tresults,\\n\\tkFactor = 4,\\n) {\\n\\tfor (const result of results) {\\n\\t\\tconst { first, second, outcome } = result;\\n\\t\\tconst firstScore = scores[first] ?? 1000;\\n\\t\\tconst secondScore = scores[second] ?? 1000;\\n\\n\\t\\tconst expectedScoreFirst = 1 / (1 + Math.pow(10, (secondScore - firstScore) / 400));\\n\\t\\tconst expectedScoreSecond = 1 / (1 + Math.pow(10, (firstScore - secondScore) / 400));\\n\\t\\tlet sa = 0.5;\\n\\t\\tif (outcome === 1) {\\n\\t\\t\\tsa = 1;\\n\\t\\t} else if (outcome === -1) {\\n\\t\\t\\tsa = 0;\\n\\t\\t}\\n\\t\\tscores[first] = firstScore + kFactor * (sa - expectedScoreFirst);\\n\\t\\tscores[second] = secondScore + kFactor * (1 - sa - expectedScoreSecond);\\n\\t}\\n\\treturn scores;\\n}\\n```<|im_end|>\\n<|im_start|>assistant\\n```javascript\\n/**\\n * Updates the Elo scores based'}],\n",
       " [{'generated_text': '<|im_start|>system\\nYou are a helpful assistant<|im_end|>\\n<|im_start|>user\\nGive a very very brief docstring for the following function:\\n```\\nfunction updateEloScores(\\n\\tscores,\\n\\tresults,\\n\\tkFactor = 4,\\n) {\\n\\tfor (const result of results) {\\n\\t\\tconst { first, second, outcome } = result;\\n\\t\\tconst firstScore = scores[first] ?? 1000;\\n\\t\\tconst secondScore = scores[second] ?? 1000;\\n\\n\\t\\tconst expectedScoreFirst = 1 / (1 + Math.pow(10, (secondScore - firstScore) / 400));\\n\\t\\tconst expectedScoreSecond = 1 / (1 + Math.pow(10, (firstScore - secondScore) / 400));\\n\\t\\tlet sa = 0.5;\\n\\t\\tif (outcome === 1) {\\n\\t\\t\\tsa = 1;\\n\\t\\t} else if (outcome === -1) {\\n\\t\\t\\tsa = 0;\\n\\t\\t}\\n\\t\\tscores[first] = firstScore + kFactor * (sa - expectedScoreFirst);\\n\\t\\tscores[second] = secondScore + kFactor * (1 - sa - expectedScoreSecond);\\n\\t}\\n\\treturn scores;\\n}\\n```<|im_end|>\\n<|im_start|>assistant\\nThis function takes in three parameters: `scores`,'}])"
      ]
     },
     "execution_count": 11,
     "metadata": {},
     "output_type": "execute_result"
    }
   ],
   "source": [
    "contrastive_generation(amateur, expert, prompt, 10)"
   ]
  },
  {
   "cell_type": "code",
   "execution_count": null,
   "metadata": {},
   "outputs": [],
   "source": []
  }
 ],
 "metadata": {
  "kernelspec": {
   "display_name": "Python 3",
   "language": "python",
   "name": "python3"
  },
  "language_info": {
   "codemirror_mode": {
    "name": "ipython",
    "version": 3
   },
   "file_extension": ".py",
   "mimetype": "text/x-python",
   "name": "python",
   "nbconvert_exporter": "python",
   "pygments_lexer": "ipython3",
   "version": "3.11.9"
  }
 },
 "nbformat": 4,
 "nbformat_minor": 2
}
